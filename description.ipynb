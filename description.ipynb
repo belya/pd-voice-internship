{
 "cells": [
  {
   "cell_type": "markdown",
   "metadata": {},
   "source": [
    "# Title"
   ]
  },
  {
   "cell_type": "markdown",
   "metadata": {},
   "source": [
    "UCI Parkinsons Telemonitoring Data Set "
   ]
  },
  {
   "cell_type": "markdown",
   "metadata": {},
   "source": [
    "# Description"
   ]
  },
  {
   "cell_type": "markdown",
   "metadata": {},
   "source": [
    "### Parkinson's Disease\n",
    "Parkinson’s disease is a chronic degenerative disorder of the central nervous system that affects mobility and movement in ageing population; it is classified as a movement disorder. Symptoms of PD starts gradually progressive damage of dopamine generating cells, tremors are common, but the PD disorder causes stiffness or slowness of movement. Other than these impaired posture or balance, loss of automatic movements, speech changes, writing changes are more common. PD symptoms are worsening as condition progresses overtime. There is no proven evidence to get cured PD, but medicine might improvise your symptoms and if needed doctor may suggest surgery on rare occasions to regulate the brain and improvise your symptoms.\n",
    "\n",
    "### Diagnostics by voice\n",
    "\n",
    "The assessment of PD is involves various empirical tests to be performed on the current diagnosis protocol including Physical, Speech and voice tests etc. Noninvasive telemonitoring is a latest trending in general medical care in terms of reliable, cost effective method to decrease the cost and increase the accuracy of the clinical evaluation. \n",
    "\n",
    "So there is a high potential for telemonitoring of PD is significantly depend on designing of simple test that can self administered easily and remotely. For these type of Non invasive test there is less human support required, since the recording the voice is non invasive can be readily integrate with ehealth applications. The use of vowel phonations to assess the extent of vocal symptoms where is the subjects requested to hold the frequency of phonation of as long as possible, so the recorded voice signals will assess by the speech algorithms."
   ]
  },
  {
   "cell_type": "markdown",
   "metadata": {},
   "source": [
    "# Experiment"
   ]
  },
  {
   "cell_type": "markdown",
   "metadata": {},
   "source": [
    "- Six-month clinical trial study from 42 people with early stage of Parkinson disease which captures remote monitoring voice speeches using tele-monitoring device. \n",
    "- 22 variables captured in this dataset which includes demographic characteristics of these patients and 16 biomedical voice measures. Each row corresponds one of these 5875 observations from these 42 people. \n",
    "\n",
    "### Independent variables: \n",
    "\n",
    "- Subject - Integer that uniquely identifies each subject\n",
    "- Age - Subject age\n",
    "- Sex - Subject gender '0' - male, '1' - female\n",
    "- Test_time - Time since recruitment into the trial. The integer part is the number of days since recruitment.\n",
    "- HNR - Two measures of ratio of noise to tonal components in the voice\n",
    "- RPDE - A nonlinear dynamical complexity measure\n",
    "- DFA - Signal fractal scaling exponent\n",
    "- PPE - A nonlinear measure of fundamental frequency variation\n",
    "- Jitter (%), Jitter (Abs), Jitter: RAP, Jitter: PPQ5, Jitter: DDP - Several measures of variation in fundamental frequency.\n",
    "- Shimmer, Shimmer (dB), Shimmer: APQ3, Shimmer: APQ5, Shimmer: APQ11, Shimmer: DDA - Several measures of variation in amplitude.\n",
    "\n",
    "### Target variables\n",
    "\n",
    "The unified Parkinson's disease rating scale is used to follow the longitudinal course of Parkinson's disease. The UPDRS observations for each subject were taken with the usage of TODO three times per the six-month period and linearly interplorated for all other records.\n",
    "\n",
    "- total_UPDRS - Clinician's total UPDRS score, linearly interpolated\n",
    "- motor_UPDRS - Clinician's motor UPDRS score, linearly interpolated"
   ]
  },
  {
   "cell_type": "markdown",
   "metadata": {},
   "source": [
    "# Hypotheses"
   ]
  },
  {
   "cell_type": "markdown",
   "metadata": {},
   "source": [
    "Previously we've shown that the following features can be useful to separate healthy subjects from PD patients:\n",
    "- PPE\n",
    "- DFA\n",
    "- RPDE\n",
    "- HNR/NHR\n",
    "\n",
    "All these features, probably, can be applicable for the regression task as well. But the transformation for the UPDRS score can be applied to get significant results.\n",
    "\n",
    "Target transformations:\n",
    "1. UPDRS score itself\n",
    "2. Classes splitted by threshold (for example, UPDRS > 15 and UPDRS <= 15)\n",
    "3. UPDRS change rate during N weeks"
   ]
  },
  {
   "cell_type": "markdown",
   "metadata": {},
   "source": [
    "# Related articles"
   ]
  },
  {
   "cell_type": "markdown",
   "metadata": {},
   "source": [
    "TODO"
   ]
  }
 ],
 "metadata": {
  "kernelspec": {
   "display_name": "Python 3",
   "language": "python",
   "name": "python3"
  },
  "language_info": {
   "codemirror_mode": {
    "name": "ipython",
    "version": 3
   },
   "file_extension": ".py",
   "mimetype": "text/x-python",
   "name": "python",
   "nbconvert_exporter": "python",
   "pygments_lexer": "ipython3",
   "version": "3.5.2"
  }
 },
 "nbformat": 4,
 "nbformat_minor": 2
}
